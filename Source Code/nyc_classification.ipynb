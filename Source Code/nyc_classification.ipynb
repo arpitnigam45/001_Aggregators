{
 "cells": [
  {
   "cell_type": "markdown",
   "metadata": {},
   "source": [
    "# Classifying"
   ]
  },
  {
   "cell_type": "code",
   "execution_count": 57,
   "metadata": {},
   "outputs": [],
   "source": [
    "import pandas as pd\n",
    "import numpy as np\n",
    "import matplotlib.pyplot as plt\n",
    "from sklearn.decomposition import PCA"
   ]
  },
  {
   "cell_type": "code",
   "execution_count": 47,
   "metadata": {},
   "outputs": [],
   "source": [
    "df=pd.read_csv(\"NYCdata.csv\", index_col=0)"
   ]
  },
  {
   "cell_type": "code",
   "execution_count": 48,
   "metadata": {},
   "outputs": [
    {
     "data": {
      "text/html": [
       "<div>\n",
       "<style scoped>\n",
       "    .dataframe tbody tr th:only-of-type {\n",
       "        vertical-align: middle;\n",
       "    }\n",
       "\n",
       "    .dataframe tbody tr th {\n",
       "        vertical-align: top;\n",
       "    }\n",
       "\n",
       "    .dataframe thead th {\n",
       "        text-align: right;\n",
       "    }\n",
       "</style>\n",
       "<table border=\"1\" class=\"dataframe\">\n",
       "  <thead>\n",
       "    <tr style=\"text-align: right;\">\n",
       "      <th></th>\n",
       "      <th>CensusTract</th>\n",
       "      <th>County</th>\n",
       "      <th>Borough</th>\n",
       "      <th>TotalPop</th>\n",
       "      <th>Men</th>\n",
       "      <th>Women</th>\n",
       "      <th>Hispanic</th>\n",
       "      <th>White</th>\n",
       "      <th>Black</th>\n",
       "      <th>Native</th>\n",
       "      <th>...</th>\n",
       "      <th>Walk</th>\n",
       "      <th>OtherTransp</th>\n",
       "      <th>WorkAtHome</th>\n",
       "      <th>Employed</th>\n",
       "      <th>PrivateWork</th>\n",
       "      <th>PublicWork</th>\n",
       "      <th>SelfEmployed</th>\n",
       "      <th>FamilyWork</th>\n",
       "      <th>Unemployment</th>\n",
       "      <th>NoIns18ab</th>\n",
       "    </tr>\n",
       "  </thead>\n",
       "  <tbody>\n",
       "    <tr>\n",
       "      <th>0</th>\n",
       "      <td>36005000200</td>\n",
       "      <td>Bronx</td>\n",
       "      <td>Bronx</td>\n",
       "      <td>5403</td>\n",
       "      <td>2659</td>\n",
       "      <td>2744</td>\n",
       "      <td>75.8</td>\n",
       "      <td>2.3</td>\n",
       "      <td>16.0</td>\n",
       "      <td>0.0</td>\n",
       "      <td>...</td>\n",
       "      <td>2.9</td>\n",
       "      <td>0.0</td>\n",
       "      <td>0.0</td>\n",
       "      <td>2308</td>\n",
       "      <td>80.8</td>\n",
       "      <td>16.2</td>\n",
       "      <td>2.9</td>\n",
       "      <td>0.0</td>\n",
       "      <td>7.7</td>\n",
       "      <td>9.6</td>\n",
       "    </tr>\n",
       "    <tr>\n",
       "      <th>1</th>\n",
       "      <td>36005000400</td>\n",
       "      <td>Bronx</td>\n",
       "      <td>Bronx</td>\n",
       "      <td>5915</td>\n",
       "      <td>2896</td>\n",
       "      <td>3019</td>\n",
       "      <td>62.7</td>\n",
       "      <td>3.6</td>\n",
       "      <td>30.7</td>\n",
       "      <td>0.0</td>\n",
       "      <td>...</td>\n",
       "      <td>1.4</td>\n",
       "      <td>0.5</td>\n",
       "      <td>2.1</td>\n",
       "      <td>2675</td>\n",
       "      <td>71.7</td>\n",
       "      <td>25.3</td>\n",
       "      <td>2.5</td>\n",
       "      <td>0.6</td>\n",
       "      <td>9.5</td>\n",
       "      <td>7.5</td>\n",
       "    </tr>\n",
       "    <tr>\n",
       "      <th>2</th>\n",
       "      <td>36005001600</td>\n",
       "      <td>Bronx</td>\n",
       "      <td>Bronx</td>\n",
       "      <td>5879</td>\n",
       "      <td>2558</td>\n",
       "      <td>3321</td>\n",
       "      <td>65.1</td>\n",
       "      <td>1.6</td>\n",
       "      <td>32.4</td>\n",
       "      <td>0.0</td>\n",
       "      <td>...</td>\n",
       "      <td>8.6</td>\n",
       "      <td>1.6</td>\n",
       "      <td>1.7</td>\n",
       "      <td>2120</td>\n",
       "      <td>75.0</td>\n",
       "      <td>21.3</td>\n",
       "      <td>3.8</td>\n",
       "      <td>0.0</td>\n",
       "      <td>8.7</td>\n",
       "      <td>9.9</td>\n",
       "    </tr>\n",
       "    <tr>\n",
       "      <th>3</th>\n",
       "      <td>36005001900</td>\n",
       "      <td>Bronx</td>\n",
       "      <td>Bronx</td>\n",
       "      <td>2591</td>\n",
       "      <td>1206</td>\n",
       "      <td>1385</td>\n",
       "      <td>55.4</td>\n",
       "      <td>9.0</td>\n",
       "      <td>29.0</td>\n",
       "      <td>0.0</td>\n",
       "      <td>...</td>\n",
       "      <td>3.0</td>\n",
       "      <td>2.4</td>\n",
       "      <td>6.2</td>\n",
       "      <td>1083</td>\n",
       "      <td>76.8</td>\n",
       "      <td>15.5</td>\n",
       "      <td>7.7</td>\n",
       "      <td>0.0</td>\n",
       "      <td>19.2</td>\n",
       "      <td>20.8</td>\n",
       "    </tr>\n",
       "    <tr>\n",
       "      <th>4</th>\n",
       "      <td>36005002000</td>\n",
       "      <td>Bronx</td>\n",
       "      <td>Bronx</td>\n",
       "      <td>8516</td>\n",
       "      <td>3301</td>\n",
       "      <td>5215</td>\n",
       "      <td>61.1</td>\n",
       "      <td>1.6</td>\n",
       "      <td>31.1</td>\n",
       "      <td>0.3</td>\n",
       "      <td>...</td>\n",
       "      <td>4.3</td>\n",
       "      <td>1.0</td>\n",
       "      <td>0.0</td>\n",
       "      <td>2508</td>\n",
       "      <td>71.0</td>\n",
       "      <td>21.3</td>\n",
       "      <td>7.7</td>\n",
       "      <td>0.0</td>\n",
       "      <td>17.2</td>\n",
       "      <td>11.1</td>\n",
       "    </tr>\n",
       "  </tbody>\n",
       "</table>\n",
       "<p>5 rows × 34 columns</p>\n",
       "</div>"
      ],
      "text/plain": [
       "   CensusTract County Borough  TotalPop   Men  Women  Hispanic  White  Black  \\\n",
       "0  36005000200  Bronx   Bronx      5403  2659   2744      75.8    2.3   16.0   \n",
       "1  36005000400  Bronx   Bronx      5915  2896   3019      62.7    3.6   30.7   \n",
       "2  36005001600  Bronx   Bronx      5879  2558   3321      65.1    1.6   32.4   \n",
       "3  36005001900  Bronx   Bronx      2591  1206   1385      55.4    9.0   29.0   \n",
       "4  36005002000  Bronx   Bronx      8516  3301   5215      61.1    1.6   31.1   \n",
       "\n",
       "   Native  ...  Walk  OtherTransp  WorkAtHome  Employed  PrivateWork  \\\n",
       "0     0.0  ...   2.9          0.0         0.0      2308         80.8   \n",
       "1     0.0  ...   1.4          0.5         2.1      2675         71.7   \n",
       "2     0.0  ...   8.6          1.6         1.7      2120         75.0   \n",
       "3     0.0  ...   3.0          2.4         6.2      1083         76.8   \n",
       "4     0.3  ...   4.3          1.0         0.0      2508         71.0   \n",
       "\n",
       "   PublicWork  SelfEmployed  FamilyWork  Unemployment  NoIns18ab  \n",
       "0        16.2           2.9         0.0           7.7        9.6  \n",
       "1        25.3           2.5         0.6           9.5        7.5  \n",
       "2        21.3           3.8         0.0           8.7        9.9  \n",
       "3        15.5           7.7         0.0          19.2       20.8  \n",
       "4        21.3           7.7         0.0          17.2       11.1  \n",
       "\n",
       "[5 rows x 34 columns]"
      ]
     },
     "execution_count": 48,
     "metadata": {},
     "output_type": "execute_result"
    }
   ],
   "source": [
    "df.head()"
   ]
  },
  {
   "cell_type": "code",
   "execution_count": 49,
   "metadata": {},
   "outputs": [
    {
     "data": {
      "text/plain": [
       "Index(['CensusTract', 'County', 'Borough', 'TotalPop', 'Men', 'Women',\n",
       "       'Hispanic', 'White', 'Black', 'Native', 'Asian', 'Citizen', 'Income',\n",
       "       'IncomePerCap', 'Poverty', 'ChildPoverty', 'Professional', 'Service',\n",
       "       'Office', 'Construction', 'Production', 'Drive', 'Carpool', 'Transit',\n",
       "       'Walk', 'OtherTransp', 'WorkAtHome', 'Employed', 'PrivateWork',\n",
       "       'PublicWork', 'SelfEmployed', 'FamilyWork', 'Unemployment',\n",
       "       'NoIns18ab'],\n",
       "      dtype='object')"
      ]
     },
     "execution_count": 49,
     "metadata": {},
     "output_type": "execute_result"
    }
   ],
   "source": [
    "df.columns"
   ]
  },
  {
   "cell_type": "code",
   "execution_count": 63,
   "metadata": {},
   "outputs": [
    {
     "data": {
      "text/plain": [
       "CensusTract       int64\n",
       "County           object\n",
       "Borough          object\n",
       "TotalPop          int64\n",
       "Men               int64\n",
       "Women             int64\n",
       "Hispanic        float64\n",
       "White           float64\n",
       "Black           float64\n",
       "Native          float64\n",
       "Asian           float64\n",
       "Citizen           int64\n",
       "Income          float64\n",
       "IncomePerCap    float64\n",
       "Poverty         float64\n",
       "ChildPoverty    float64\n",
       "Professional    float64\n",
       "Service         float64\n",
       "Office          float64\n",
       "Construction    float64\n",
       "Production      float64\n",
       "Drive           float64\n",
       "Carpool         float64\n",
       "Transit         float64\n",
       "Walk            float64\n",
       "OtherTransp     float64\n",
       "WorkAtHome      float64\n",
       "Employed          int64\n",
       "PrivateWork     float64\n",
       "PublicWork      float64\n",
       "SelfEmployed    float64\n",
       "FamilyWork      float64\n",
       "Unemployment    float64\n",
       "NoIns18ab       float64\n",
       "County_code       int64\n",
       "Borough_code      int64\n",
       "poverty           int64\n",
       "dtype: object"
      ]
     },
     "execution_count": 63,
     "metadata": {},
     "output_type": "execute_result"
    }
   ],
   "source": [
    "df.dtypes"
   ]
  },
  {
   "cell_type": "code",
   "execution_count": 51,
   "metadata": {},
   "outputs": [
    {
     "data": {
      "text/plain": [
       "Kings       750\n",
       "Queens      650\n",
       "Bronx       335\n",
       "New York    281\n",
       "Richmond    108\n",
       "Name: County, dtype: int64"
      ]
     },
     "execution_count": 51,
     "metadata": {},
     "output_type": "execute_result"
    }
   ],
   "source": [
    "df[\"County\"].value_counts()"
   ]
  },
  {
   "cell_type": "code",
   "execution_count": 52,
   "metadata": {},
   "outputs": [
    {
     "data": {
      "text/html": [
       "<div>\n",
       "<style scoped>\n",
       "    .dataframe tbody tr th:only-of-type {\n",
       "        vertical-align: middle;\n",
       "    }\n",
       "\n",
       "    .dataframe tbody tr th {\n",
       "        vertical-align: top;\n",
       "    }\n",
       "\n",
       "    .dataframe thead th {\n",
       "        text-align: right;\n",
       "    }\n",
       "</style>\n",
       "<table border=\"1\" class=\"dataframe\">\n",
       "  <thead>\n",
       "    <tr style=\"text-align: right;\">\n",
       "      <th></th>\n",
       "      <th>County</th>\n",
       "      <th>County_code</th>\n",
       "    </tr>\n",
       "  </thead>\n",
       "  <tbody>\n",
       "    <tr>\n",
       "      <th>0</th>\n",
       "      <td>Bronx</td>\n",
       "      <td>0</td>\n",
       "    </tr>\n",
       "    <tr>\n",
       "      <th>1</th>\n",
       "      <td>Bronx</td>\n",
       "      <td>0</td>\n",
       "    </tr>\n",
       "    <tr>\n",
       "      <th>2</th>\n",
       "      <td>Bronx</td>\n",
       "      <td>0</td>\n",
       "    </tr>\n",
       "    <tr>\n",
       "      <th>3</th>\n",
       "      <td>Bronx</td>\n",
       "      <td>0</td>\n",
       "    </tr>\n",
       "    <tr>\n",
       "      <th>4</th>\n",
       "      <td>Bronx</td>\n",
       "      <td>0</td>\n",
       "    </tr>\n",
       "    <tr>\n",
       "      <th>5</th>\n",
       "      <td>Bronx</td>\n",
       "      <td>0</td>\n",
       "    </tr>\n",
       "    <tr>\n",
       "      <th>6</th>\n",
       "      <td>Bronx</td>\n",
       "      <td>0</td>\n",
       "    </tr>\n",
       "    <tr>\n",
       "      <th>7</th>\n",
       "      <td>Bronx</td>\n",
       "      <td>0</td>\n",
       "    </tr>\n",
       "    <tr>\n",
       "      <th>8</th>\n",
       "      <td>Bronx</td>\n",
       "      <td>0</td>\n",
       "    </tr>\n",
       "    <tr>\n",
       "      <th>9</th>\n",
       "      <td>Bronx</td>\n",
       "      <td>0</td>\n",
       "    </tr>\n",
       "    <tr>\n",
       "      <th>10</th>\n",
       "      <td>Bronx</td>\n",
       "      <td>0</td>\n",
       "    </tr>\n",
       "  </tbody>\n",
       "</table>\n",
       "</div>"
      ],
      "text/plain": [
       "   County  County_code\n",
       "0   Bronx            0\n",
       "1   Bronx            0\n",
       "2   Bronx            0\n",
       "3   Bronx            0\n",
       "4   Bronx            0\n",
       "5   Bronx            0\n",
       "6   Bronx            0\n",
       "7   Bronx            0\n",
       "8   Bronx            0\n",
       "9   Bronx            0\n",
       "10  Bronx            0"
      ]
     },
     "execution_count": 52,
     "metadata": {},
     "output_type": "execute_result"
    }
   ],
   "source": [
    "from sklearn.preprocessing import LabelEncoder\n",
    "lb_make = LabelEncoder()\n",
    "df[\"County_code\"] = lb_make.fit_transform(df[\"County\"])\n",
    "df[[\"County\", \"County_code\"]].head(11)"
   ]
  },
  {
   "cell_type": "code",
   "execution_count": 53,
   "metadata": {},
   "outputs": [
    {
     "data": {
      "text/html": [
       "<div>\n",
       "<style scoped>\n",
       "    .dataframe tbody tr th:only-of-type {\n",
       "        vertical-align: middle;\n",
       "    }\n",
       "\n",
       "    .dataframe tbody tr th {\n",
       "        vertical-align: top;\n",
       "    }\n",
       "\n",
       "    .dataframe thead th {\n",
       "        text-align: right;\n",
       "    }\n",
       "</style>\n",
       "<table border=\"1\" class=\"dataframe\">\n",
       "  <thead>\n",
       "    <tr style=\"text-align: right;\">\n",
       "      <th></th>\n",
       "      <th>Borough</th>\n",
       "      <th>Borough_code</th>\n",
       "    </tr>\n",
       "  </thead>\n",
       "  <tbody>\n",
       "    <tr>\n",
       "      <th>0</th>\n",
       "      <td>Bronx</td>\n",
       "      <td>0</td>\n",
       "    </tr>\n",
       "    <tr>\n",
       "      <th>1</th>\n",
       "      <td>Bronx</td>\n",
       "      <td>0</td>\n",
       "    </tr>\n",
       "    <tr>\n",
       "      <th>2</th>\n",
       "      <td>Bronx</td>\n",
       "      <td>0</td>\n",
       "    </tr>\n",
       "    <tr>\n",
       "      <th>3</th>\n",
       "      <td>Bronx</td>\n",
       "      <td>0</td>\n",
       "    </tr>\n",
       "    <tr>\n",
       "      <th>4</th>\n",
       "      <td>Bronx</td>\n",
       "      <td>0</td>\n",
       "    </tr>\n",
       "    <tr>\n",
       "      <th>5</th>\n",
       "      <td>Bronx</td>\n",
       "      <td>0</td>\n",
       "    </tr>\n",
       "    <tr>\n",
       "      <th>6</th>\n",
       "      <td>Bronx</td>\n",
       "      <td>0</td>\n",
       "    </tr>\n",
       "    <tr>\n",
       "      <th>7</th>\n",
       "      <td>Bronx</td>\n",
       "      <td>0</td>\n",
       "    </tr>\n",
       "    <tr>\n",
       "      <th>8</th>\n",
       "      <td>Bronx</td>\n",
       "      <td>0</td>\n",
       "    </tr>\n",
       "    <tr>\n",
       "      <th>9</th>\n",
       "      <td>Bronx</td>\n",
       "      <td>0</td>\n",
       "    </tr>\n",
       "    <tr>\n",
       "      <th>10</th>\n",
       "      <td>Bronx</td>\n",
       "      <td>0</td>\n",
       "    </tr>\n",
       "  </tbody>\n",
       "</table>\n",
       "</div>"
      ],
      "text/plain": [
       "   Borough  Borough_code\n",
       "0    Bronx             0\n",
       "1    Bronx             0\n",
       "2    Bronx             0\n",
       "3    Bronx             0\n",
       "4    Bronx             0\n",
       "5    Bronx             0\n",
       "6    Bronx             0\n",
       "7    Bronx             0\n",
       "8    Bronx             0\n",
       "9    Bronx             0\n",
       "10   Bronx             0"
      ]
     },
     "execution_count": 53,
     "metadata": {},
     "output_type": "execute_result"
    }
   ],
   "source": [
    "df[\"Borough_code\"] = lb_make.fit_transform(df[\"Borough\"])\n",
    "df[[\"Borough\", \"Borough_code\"]].head(11)"
   ]
  },
  {
   "cell_type": "code",
   "execution_count": 54,
   "metadata": {},
   "outputs": [
    {
     "data": {
      "text/plain": [
       "Brooklyn         750\n",
       "Queens           650\n",
       "Bronx            335\n",
       "Manhattan        281\n",
       "Staten Island    108\n",
       "Name: Borough, dtype: int64"
      ]
     },
     "execution_count": 54,
     "metadata": {},
     "output_type": "execute_result"
    }
   ],
   "source": [
    "df[\"Borough\"].value_counts()"
   ]
  },
  {
   "cell_type": "code",
   "execution_count": 55,
   "metadata": {},
   "outputs": [
    {
     "data": {
      "text/plain": [
       "1    750\n",
       "3    650\n",
       "0    335\n",
       "2    281\n",
       "4    108\n",
       "Name: County_code, dtype: int64"
      ]
     },
     "execution_count": 55,
     "metadata": {},
     "output_type": "execute_result"
    }
   ],
   "source": [
    "df[\"County_code\"].value_counts()"
   ]
  },
  {
   "cell_type": "code",
   "execution_count": 58,
   "metadata": {},
   "outputs": [],
   "source": [
    "#df[\"Poverty\"]=(df.Poverty)/np.mean(df[\"Poverty\"])\n",
    "mean=np.mean(df[\"Poverty\"])\n",
    "l=list()\n",
    "for i in df[\"Poverty\"]:\n",
    "    if(i>=mean):\n",
    "        l.append(0)\n",
    "    else:\n",
    "        l.append(1)  "
   ]
  },
  {
   "cell_type": "code",
   "execution_count": 60,
   "metadata": {},
   "outputs": [],
   "source": [
    "df[\"poverty\"]=l"
   ]
  },
  {
   "cell_type": "code",
   "execution_count": 62,
   "metadata": {},
   "outputs": [
    {
     "data": {
      "text/plain": [
       "1    1239\n",
       "0     885\n",
       "Name: poverty, dtype: int64"
      ]
     },
     "execution_count": 62,
     "metadata": {},
     "output_type": "execute_result"
    }
   ],
   "source": [
    "df[\"poverty\"].value_counts()"
   ]
  },
  {
   "cell_type": "code",
   "execution_count": 10,
   "metadata": {},
   "outputs": [
    {
     "ename": "NameError",
     "evalue": "name 'df' is not defined",
     "output_type": "error",
     "traceback": [
      "\u001b[0;31m---------------------------------------------------------------------------\u001b[0m",
      "\u001b[0;31mNameError\u001b[0m                                 Traceback (most recent call last)",
      "\u001b[0;32m<ipython-input-10-81d674b795f6>\u001b[0m in \u001b[0;36m<module>\u001b[0;34m\u001b[0m\n\u001b[1;32m      1\u001b[0m \u001b[0;32mfrom\u001b[0m \u001b[0msklearn\u001b[0m\u001b[0;34m.\u001b[0m\u001b[0mpreprocessing\u001b[0m \u001b[0;32mimport\u001b[0m \u001b[0mStandardScaler\u001b[0m\u001b[0;34m\u001b[0m\u001b[0;34m\u001b[0m\u001b[0m\n\u001b[1;32m      2\u001b[0m \u001b[0mstd_scaler\u001b[0m \u001b[0;34m=\u001b[0m \u001b[0mStandardScaler\u001b[0m\u001b[0;34m(\u001b[0m\u001b[0;34m)\u001b[0m\u001b[0;34m\u001b[0m\u001b[0;34m\u001b[0m\u001b[0m\n\u001b[0;32m----> 3\u001b[0;31m X=df[['CensusTract', 'TotalPop', 'Men', 'Women',\n\u001b[0m\u001b[1;32m      4\u001b[0m        \u001b[0;34m'Hispanic'\u001b[0m\u001b[0;34m,\u001b[0m \u001b[0;34m'White'\u001b[0m\u001b[0;34m,\u001b[0m \u001b[0;34m'Black'\u001b[0m\u001b[0;34m,\u001b[0m \u001b[0;34m'Native'\u001b[0m\u001b[0;34m,\u001b[0m \u001b[0;34m'Asian'\u001b[0m\u001b[0;34m,\u001b[0m \u001b[0;34m'Citizen'\u001b[0m\u001b[0;34m,\u001b[0m \u001b[0;34m'Income'\u001b[0m\u001b[0;34m,\u001b[0m\u001b[0;34m\u001b[0m\u001b[0;34m\u001b[0m\u001b[0m\n\u001b[1;32m      5\u001b[0m        \u001b[0;34m'IncomePerCap'\u001b[0m\u001b[0;34m,\u001b[0m \u001b[0;34m'ChildPoverty'\u001b[0m\u001b[0;34m,\u001b[0m \u001b[0;34m'Professional'\u001b[0m\u001b[0;34m,\u001b[0m \u001b[0;34m'Service'\u001b[0m\u001b[0;34m,\u001b[0m\u001b[0;34m\u001b[0m\u001b[0;34m\u001b[0m\u001b[0m\n",
      "\u001b[0;31mNameError\u001b[0m: name 'df' is not defined"
     ]
    }
   ],
   "source": [
    "from sklearn.preprocessing import StandardScaler\n",
    "std_scaler = StandardScaler()\n",
    "X=df[['CensusTract', 'TotalPop', 'Men', 'Women',\n",
    "       'Hispanic', 'White', 'Black', 'Native', 'Asian', 'Citizen', 'Income',\n",
    "       'IncomePerCap', 'ChildPoverty', 'Professional', 'Service',\n",
    "       'Office', 'Construction', 'Production', 'Drive', 'Carpool', 'Transit',\n",
    "       'Walk', 'OtherTransp', 'WorkAtHome', 'Employed', 'PrivateWork',\n",
    "       'PublicWork', 'SelfEmployed', 'FamilyWork', 'Unemployment',\n",
    "       'NoIns18ab','Borough_code','County_code']]\n",
    "y=df['poverty']           \n",
    "std_scaler.fit(X)\n",
    "scaled_X=std_scaler.transform(X)\n",
    "final_X=pd.DataFrame(scaled_X,columns=['CensusTract', 'TotalPop', 'Men', 'Women',\n",
    "       'Hispanic', 'White', 'Black', 'Native', 'Asian', 'Citizen', 'Income',\n",
    "       'IncomePerCap', 'ChildPoverty', 'Professional', 'Service',\n",
    "       'Office', 'Construction', 'Production', 'Drive', 'Carpool', 'Transit',\n",
    "       'Walk', 'OtherTransp', 'WorkAtHome', 'Employed', 'PrivateWork',\n",
    "       'PublicWork', 'SelfEmployed', 'FamilyWork', 'Unemployment',\n",
    "       'NoIns18ab','Borough_code','County_code'])"
   ]
  },
  {
   "cell_type": "code",
   "execution_count": 12,
   "metadata": {},
   "outputs": [
    {
     "ename": "NameError",
     "evalue": "name 'y' is not defined",
     "output_type": "error",
     "traceback": [
      "\u001b[0;31m---------------------------------------------------------------------------\u001b[0m",
      "\u001b[0;31mNameError\u001b[0m                                 Traceback (most recent call last)",
      "\u001b[0;32m<ipython-input-12-101accd06e12>\u001b[0m in \u001b[0;36m<module>\u001b[0;34m\u001b[0m\n\u001b[1;32m      2\u001b[0m \u001b[0mtarget\u001b[0m\u001b[0;34m=\u001b[0m\u001b[0;34m[\u001b[0m\u001b[0;34m]\u001b[0m\u001b[0;34m\u001b[0m\u001b[0;34m\u001b[0m\u001b[0m\n\u001b[1;32m      3\u001b[0m \u001b[0;32mfrom\u001b[0m \u001b[0msklearn\u001b[0m\u001b[0;34m.\u001b[0m\u001b[0mmodel_selection\u001b[0m \u001b[0;32mimport\u001b[0m \u001b[0mtrain_test_split\u001b[0m\u001b[0;34m\u001b[0m\u001b[0;34m\u001b[0m\u001b[0m\n\u001b[0;32m----> 4\u001b[0;31m \u001b[0mx_train\u001b[0m\u001b[0;34m,\u001b[0m \u001b[0mx_test\u001b[0m\u001b[0;34m,\u001b[0m \u001b[0my_train\u001b[0m\u001b[0;34m,\u001b[0m \u001b[0my_test\u001b[0m \u001b[0;34m=\u001b[0m \u001b[0mtrain_test_split\u001b[0m\u001b[0;34m(\u001b[0m\u001b[0mX\u001b[0m\u001b[0;34m,\u001b[0m\u001b[0my\u001b[0m\u001b[0;34m,\u001b[0m \u001b[0mtest_size\u001b[0m\u001b[0;34m=\u001b[0m\u001b[0;36m0.25\u001b[0m\u001b[0;34m,\u001b[0m \u001b[0mrandom_state\u001b[0m\u001b[0;34m=\u001b[0m\u001b[0;36m0\u001b[0m\u001b[0;34m)\u001b[0m\u001b[0;34m\u001b[0m\u001b[0;34m\u001b[0m\u001b[0m\n\u001b[0m",
      "\u001b[0;31mNameError\u001b[0m: name 'y' is not defined"
     ]
    }
   ],
   "source": [
    "data=[]\n",
    "target=[]\n",
    "from sklearn.model_selection import train_test_split\n",
    "x_train, x_test, y_train, y_test = train_test_split(X,y, test_size=0.25, random_state=0)"
   ]
  },
  {
   "cell_type": "code",
   "execution_count": 69,
   "metadata": {},
   "outputs": [
    {
     "name": "stdout",
     "output_type": "stream",
     "text": [
      "              precision    recall  f1-score   support\n",
      "\n",
      "           0       0.00      0.00      0.00       223\n",
      "           1       0.58      1.00      0.73       308\n",
      "\n",
      "    accuracy                           0.58       531\n",
      "   macro avg       0.29      0.50      0.37       531\n",
      "weighted avg       0.34      0.58      0.43       531\n",
      "\n"
     ]
    },
    {
     "name": "stderr",
     "output_type": "stream",
     "text": [
      "/home/arpit/anaconda3/lib/python3.7/site-packages/sklearn/metrics/_classification.py:1272: UndefinedMetricWarning: Precision and F-score are ill-defined and being set to 0.0 in labels with no predicted samples. Use `zero_division` parameter to control this behavior.\n",
      "  _warn_prf(average, modifier, msg_start, len(result))\n"
     ]
    }
   ],
   "source": [
    "# Let's Try Logistic Regression\n",
    "from sklearn.metrics import classification_report,confusion_matrix\n",
    "from sklearn.linear_model import LogisticRegression\n",
    "lgrm=LogisticRegression()\n",
    "lgrm.fit(x_train,y_train)\n",
    "preds=lgrm.predict(x_test)\n",
    "print(classification_report(y_test,preds))"
   ]
  },
  {
   "cell_type": "code",
   "execution_count": 74,
   "metadata": {},
   "outputs": [
    {
     "data": {
      "text/plain": [
       "0.5800376647834274"
      ]
     },
     "execution_count": 74,
     "metadata": {},
     "output_type": "execute_result"
    }
   ],
   "source": [
    "lgrm.score(x_test,y_test)"
   ]
  },
  {
   "cell_type": "code",
   "execution_count": null,
   "metadata": {},
   "outputs": [],
   "source": [
    "from sklearn.svm import SVC\n",
    "svclassifier = SVC(kernel='linear')\n",
    "svclassifier.fit(x_train, y_train)"
   ]
  },
  {
   "cell_type": "code",
   "execution_count": null,
   "metadata": {},
   "outputs": [],
   "source": [
    "y_pred = svclassifier.predict(x_train)\n",
    "print(confusion_matrix(y_test,y_pred))\n",
    "print(classification_report(y_test,y_pred))"
   ]
  },
  {
   "cell_type": "markdown",
   "metadata": {},
   "source": [
    "# Imputedata2018.csv\n",
    "\n"
   ]
  },
  {
   "cell_type": "code",
   "execution_count": 21,
   "metadata": {},
   "outputs": [],
   "source": [
    "df_t=pd.read_csv(\"imputedData2018.csv\")"
   ]
  },
  {
   "cell_type": "code",
   "execution_count": 22,
   "metadata": {},
   "outputs": [
    {
     "data": {
      "text/html": [
       "<div>\n",
       "<style scoped>\n",
       "    .dataframe tbody tr th:only-of-type {\n",
       "        vertical-align: middle;\n",
       "    }\n",
       "\n",
       "    .dataframe tbody tr th {\n",
       "        vertical-align: top;\n",
       "    }\n",
       "\n",
       "    .dataframe thead th {\n",
       "        text-align: right;\n",
       "    }\n",
       "</style>\n",
       "<table border=\"1\" class=\"dataframe\">\n",
       "  <thead>\n",
       "    <tr style=\"text-align: right;\">\n",
       "      <th></th>\n",
       "      <th>Estimate!!EMPLOYMENT STATUS!!Population 16 years and over</th>\n",
       "      <th>Estimate!!EMPLOYMENT STATUS!!Population 16 years and over!!In labor force</th>\n",
       "      <th>Estimate!!EMPLOYMENT STATUS!!Population 16 years and over!!In labor force!!Civilian labor force!!Unemployed</th>\n",
       "      <th>Estimate!!EMPLOYMENT STATUS!!Population 16 years and over!!In labor force!!Armed Forces</th>\n",
       "      <th>Estimate!!EMPLOYMENT STATUS!!Population 16 years and over!!Not in labor force</th>\n",
       "      <th>Estimate!!EMPLOYMENT STATUS!!Civilian labor force</th>\n",
       "      <th>Estimate!!EMPLOYMENT STATUS!!Females 16 years and over</th>\n",
       "      <th>Estimate!!EMPLOYMENT STATUS!!Females 16 years and over!!In labor force</th>\n",
       "      <th>Estimate!!EMPLOYMENT STATUS!!Females 16 years and over!!In labor force!!Civilian labor force</th>\n",
       "      <th>Estimate!!EMPLOYMENT STATUS!!Females 16 years and over!!In labor force!!Civilian labor force!!Employed</th>\n",
       "      <th>...</th>\n",
       "      <th>Estimate!!HEALTH INSURANCE COVERAGE!!Civilian noninstitutionalized population!!Civilian noninstitutionalized population 19 to 64 years!!In labor force!!Unemployed!!With health insurance coverage!!With private health insurance</th>\n",
       "      <th>Estimate!!HEALTH INSURANCE COVERAGE!!Civilian noninstitutionalized population!!Civilian noninstitutionalized population 19 to 64 years!!In labor force!!Unemployed!!With health insurance coverage!!With public coverage</th>\n",
       "      <th>Estimate!!HEALTH INSURANCE COVERAGE!!Civilian noninstitutionalized population!!Civilian noninstitutionalized population 19 to 64 years!!In labor force!!Unemployed!!No health insurance coverage</th>\n",
       "      <th>Estimate!!HEALTH INSURANCE COVERAGE!!Civilian noninstitutionalized population!!Civilian noninstitutionalized population 19 to 64 years!!Not in labor force</th>\n",
       "      <th>Estimate!!HEALTH INSURANCE COVERAGE!!Civilian noninstitutionalized population!!Civilian noninstitutionalized population 19 to 64 years!!Not in labor force!!With health insurance coverage</th>\n",
       "      <th>Estimate!!HEALTH INSURANCE COVERAGE!!Civilian noninstitutionalized population!!Civilian noninstitutionalized population 19 to 64 years!!Not in labor force!!With health insurance coverage!!With private health insurance</th>\n",
       "      <th>Estimate!!HEALTH INSURANCE COVERAGE!!Civilian noninstitutionalized population!!Civilian noninstitutionalized population 19 to 64 years!!Not in labor force!!With health insurance coverage!!With public coverage</th>\n",
       "      <th>Estimate!!HEALTH INSURANCE COVERAGE!!Civilian noninstitutionalized population!!Civilian noninstitutionalized population 19 to 64 years!!Not in labor force!!No health insurance coverage</th>\n",
       "      <th>Percent Estimate!!PERCENTAGE OF FAMILIES AND PEOPLE WHOSE INCOME IN THE PAST 12 MONTHS IS BELOW THE POVERTY LEVEL!!All families</th>\n",
       "      <th>Percent Estimate!!EMPLOYMENT STATUS!!Civilian labor force!!Unemployment Rate</th>\n",
       "    </tr>\n",
       "    <tr>\n",
       "      <th>id</th>\n",
       "      <th></th>\n",
       "      <th></th>\n",
       "      <th></th>\n",
       "      <th></th>\n",
       "      <th></th>\n",
       "      <th></th>\n",
       "      <th></th>\n",
       "      <th></th>\n",
       "      <th></th>\n",
       "      <th></th>\n",
       "      <th></th>\n",
       "      <th></th>\n",
       "      <th></th>\n",
       "      <th></th>\n",
       "      <th></th>\n",
       "      <th></th>\n",
       "      <th></th>\n",
       "      <th></th>\n",
       "      <th></th>\n",
       "      <th></th>\n",
       "      <th></th>\n",
       "    </tr>\n",
       "  </thead>\n",
       "  <tbody>\n",
       "    <tr>\n",
       "      <th>1400000US36001000100</th>\n",
       "      <td>1505.0</td>\n",
       "      <td>930.0</td>\n",
       "      <td>113.0</td>\n",
       "      <td>6.0</td>\n",
       "      <td>575.0</td>\n",
       "      <td>924.0</td>\n",
       "      <td>816.0</td>\n",
       "      <td>521.0</td>\n",
       "      <td>521.0</td>\n",
       "      <td>432.0</td>\n",
       "      <td>...</td>\n",
       "      <td>13.0</td>\n",
       "      <td>62.0</td>\n",
       "      <td>0.0</td>\n",
       "      <td>338.0</td>\n",
       "      <td>300.0</td>\n",
       "      <td>75.0</td>\n",
       "      <td>255.0</td>\n",
       "      <td>38.0</td>\n",
       "      <td>24.2</td>\n",
       "      <td>12.2</td>\n",
       "    </tr>\n",
       "    <tr>\n",
       "      <th>1400000US36001000200</th>\n",
       "      <td>3748.0</td>\n",
       "      <td>2519.0</td>\n",
       "      <td>242.0</td>\n",
       "      <td>0.0</td>\n",
       "      <td>1229.0</td>\n",
       "      <td>2519.0</td>\n",
       "      <td>2051.0</td>\n",
       "      <td>1549.0</td>\n",
       "      <td>1549.0</td>\n",
       "      <td>1421.0</td>\n",
       "      <td>...</td>\n",
       "      <td>104.0</td>\n",
       "      <td>81.0</td>\n",
       "      <td>54.0</td>\n",
       "      <td>900.0</td>\n",
       "      <td>658.0</td>\n",
       "      <td>88.0</td>\n",
       "      <td>587.0</td>\n",
       "      <td>242.0</td>\n",
       "      <td>34.3</td>\n",
       "      <td>9.6</td>\n",
       "    </tr>\n",
       "    <tr>\n",
       "      <th>1400000US36001000300</th>\n",
       "      <td>4816.0</td>\n",
       "      <td>2894.0</td>\n",
       "      <td>296.0</td>\n",
       "      <td>0.0</td>\n",
       "      <td>1922.0</td>\n",
       "      <td>2894.0</td>\n",
       "      <td>2536.0</td>\n",
       "      <td>1405.0</td>\n",
       "      <td>1405.0</td>\n",
       "      <td>1361.0</td>\n",
       "      <td>...</td>\n",
       "      <td>32.0</td>\n",
       "      <td>156.0</td>\n",
       "      <td>46.0</td>\n",
       "      <td>998.0</td>\n",
       "      <td>803.0</td>\n",
       "      <td>333.0</td>\n",
       "      <td>526.0</td>\n",
       "      <td>195.0</td>\n",
       "      <td>21.7</td>\n",
       "      <td>10.2</td>\n",
       "    </tr>\n",
       "    <tr>\n",
       "      <th>1400000US36001000401</th>\n",
       "      <td>2305.0</td>\n",
       "      <td>1000.0</td>\n",
       "      <td>50.0</td>\n",
       "      <td>0.0</td>\n",
       "      <td>1305.0</td>\n",
       "      <td>1000.0</td>\n",
       "      <td>1434.0</td>\n",
       "      <td>574.0</td>\n",
       "      <td>574.0</td>\n",
       "      <td>546.0</td>\n",
       "      <td>...</td>\n",
       "      <td>28.0</td>\n",
       "      <td>22.0</td>\n",
       "      <td>22.0</td>\n",
       "      <td>172.0</td>\n",
       "      <td>146.0</td>\n",
       "      <td>91.0</td>\n",
       "      <td>73.0</td>\n",
       "      <td>26.0</td>\n",
       "      <td>2.0</td>\n",
       "      <td>5.0</td>\n",
       "    </tr>\n",
       "    <tr>\n",
       "      <th>1400000US36001000403</th>\n",
       "      <td>3756.0</td>\n",
       "      <td>2747.0</td>\n",
       "      <td>78.0</td>\n",
       "      <td>0.0</td>\n",
       "      <td>1009.0</td>\n",
       "      <td>2747.0</td>\n",
       "      <td>1875.0</td>\n",
       "      <td>1268.0</td>\n",
       "      <td>1268.0</td>\n",
       "      <td>1202.0</td>\n",
       "      <td>...</td>\n",
       "      <td>43.0</td>\n",
       "      <td>21.0</td>\n",
       "      <td>0.0</td>\n",
       "      <td>483.0</td>\n",
       "      <td>483.0</td>\n",
       "      <td>287.0</td>\n",
       "      <td>262.0</td>\n",
       "      <td>0.0</td>\n",
       "      <td>2.4</td>\n",
       "      <td>2.8</td>\n",
       "    </tr>\n",
       "  </tbody>\n",
       "</table>\n",
       "<p>5 rows × 115 columns</p>\n",
       "</div>"
      ],
      "text/plain": [
       "                      Estimate!!EMPLOYMENT STATUS!!Population 16 years and over  \\\n",
       "id                                                                                \n",
       "1400000US36001000100                                             1505.0           \n",
       "1400000US36001000200                                             3748.0           \n",
       "1400000US36001000300                                             4816.0           \n",
       "1400000US36001000401                                             2305.0           \n",
       "1400000US36001000403                                             3756.0           \n",
       "\n",
       "                      Estimate!!EMPLOYMENT STATUS!!Population 16 years and over!!In labor force  \\\n",
       "id                                                                                                \n",
       "1400000US36001000100                                              930.0                           \n",
       "1400000US36001000200                                             2519.0                           \n",
       "1400000US36001000300                                             2894.0                           \n",
       "1400000US36001000401                                             1000.0                           \n",
       "1400000US36001000403                                             2747.0                           \n",
       "\n",
       "                      Estimate!!EMPLOYMENT STATUS!!Population 16 years and over!!In labor force!!Civilian labor force!!Unemployed  \\\n",
       "id                                                                                                                                  \n",
       "1400000US36001000100                                              113.0                                                             \n",
       "1400000US36001000200                                              242.0                                                             \n",
       "1400000US36001000300                                              296.0                                                             \n",
       "1400000US36001000401                                               50.0                                                             \n",
       "1400000US36001000403                                               78.0                                                             \n",
       "\n",
       "                      Estimate!!EMPLOYMENT STATUS!!Population 16 years and over!!In labor force!!Armed Forces  \\\n",
       "id                                                                                                              \n",
       "1400000US36001000100                                                6.0                                         \n",
       "1400000US36001000200                                                0.0                                         \n",
       "1400000US36001000300                                                0.0                                         \n",
       "1400000US36001000401                                                0.0                                         \n",
       "1400000US36001000403                                                0.0                                         \n",
       "\n",
       "                      Estimate!!EMPLOYMENT STATUS!!Population 16 years and over!!Not in labor force  \\\n",
       "id                                                                                                    \n",
       "1400000US36001000100                                              575.0                               \n",
       "1400000US36001000200                                             1229.0                               \n",
       "1400000US36001000300                                             1922.0                               \n",
       "1400000US36001000401                                             1305.0                               \n",
       "1400000US36001000403                                             1009.0                               \n",
       "\n",
       "                      Estimate!!EMPLOYMENT STATUS!!Civilian labor force  \\\n",
       "id                                                                        \n",
       "1400000US36001000100                                              924.0   \n",
       "1400000US36001000200                                             2519.0   \n",
       "1400000US36001000300                                             2894.0   \n",
       "1400000US36001000401                                             1000.0   \n",
       "1400000US36001000403                                             2747.0   \n",
       "\n",
       "                      Estimate!!EMPLOYMENT STATUS!!Females 16 years and over  \\\n",
       "id                                                                             \n",
       "1400000US36001000100                                              816.0        \n",
       "1400000US36001000200                                             2051.0        \n",
       "1400000US36001000300                                             2536.0        \n",
       "1400000US36001000401                                             1434.0        \n",
       "1400000US36001000403                                             1875.0        \n",
       "\n",
       "                      Estimate!!EMPLOYMENT STATUS!!Females 16 years and over!!In labor force  \\\n",
       "id                                                                                             \n",
       "1400000US36001000100                                              521.0                        \n",
       "1400000US36001000200                                             1549.0                        \n",
       "1400000US36001000300                                             1405.0                        \n",
       "1400000US36001000401                                              574.0                        \n",
       "1400000US36001000403                                             1268.0                        \n",
       "\n",
       "                      Estimate!!EMPLOYMENT STATUS!!Females 16 years and over!!In labor force!!Civilian labor force  \\\n",
       "id                                                                                                                   \n",
       "1400000US36001000100                                              521.0                                              \n",
       "1400000US36001000200                                             1549.0                                              \n",
       "1400000US36001000300                                             1405.0                                              \n",
       "1400000US36001000401                                              574.0                                              \n",
       "1400000US36001000403                                             1268.0                                              \n",
       "\n",
       "                      Estimate!!EMPLOYMENT STATUS!!Females 16 years and over!!In labor force!!Civilian labor force!!Employed  \\\n",
       "id                                                                                                                             \n",
       "1400000US36001000100                                              432.0                                                        \n",
       "1400000US36001000200                                             1421.0                                                        \n",
       "1400000US36001000300                                             1361.0                                                        \n",
       "1400000US36001000401                                              546.0                                                        \n",
       "1400000US36001000403                                             1202.0                                                        \n",
       "\n",
       "                      ...  \\\n",
       "id                    ...   \n",
       "1400000US36001000100  ...   \n",
       "1400000US36001000200  ...   \n",
       "1400000US36001000300  ...   \n",
       "1400000US36001000401  ...   \n",
       "1400000US36001000403  ...   \n",
       "\n",
       "                      Estimate!!HEALTH INSURANCE COVERAGE!!Civilian noninstitutionalized population!!Civilian noninstitutionalized population 19 to 64 years!!In labor force!!Unemployed!!With health insurance coverage!!With private health insurance  \\\n",
       "id                                                                                                                                                                                                                                                        \n",
       "1400000US36001000100                                               13.0                                                                                                                                                                                   \n",
       "1400000US36001000200                                              104.0                                                                                                                                                                                   \n",
       "1400000US36001000300                                               32.0                                                                                                                                                                                   \n",
       "1400000US36001000401                                               28.0                                                                                                                                                                                   \n",
       "1400000US36001000403                                               43.0                                                                                                                                                                                   \n",
       "\n",
       "                      Estimate!!HEALTH INSURANCE COVERAGE!!Civilian noninstitutionalized population!!Civilian noninstitutionalized population 19 to 64 years!!In labor force!!Unemployed!!With health insurance coverage!!With public coverage  \\\n",
       "id                                                                                                                                                                                                                                               \n",
       "1400000US36001000100                                               62.0                                                                                                                                                                          \n",
       "1400000US36001000200                                               81.0                                                                                                                                                                          \n",
       "1400000US36001000300                                              156.0                                                                                                                                                                          \n",
       "1400000US36001000401                                               22.0                                                                                                                                                                          \n",
       "1400000US36001000403                                               21.0                                                                                                                                                                          \n",
       "\n",
       "                      Estimate!!HEALTH INSURANCE COVERAGE!!Civilian noninstitutionalized population!!Civilian noninstitutionalized population 19 to 64 years!!In labor force!!Unemployed!!No health insurance coverage  \\\n",
       "id                                                                                                                                                                                                                       \n",
       "1400000US36001000100                                                0.0                                                                                                                                                  \n",
       "1400000US36001000200                                               54.0                                                                                                                                                  \n",
       "1400000US36001000300                                               46.0                                                                                                                                                  \n",
       "1400000US36001000401                                               22.0                                                                                                                                                  \n",
       "1400000US36001000403                                                0.0                                                                                                                                                  \n",
       "\n",
       "                      Estimate!!HEALTH INSURANCE COVERAGE!!Civilian noninstitutionalized population!!Civilian noninstitutionalized population 19 to 64 years!!Not in labor force  \\\n",
       "id                                                                                                                                                                                 \n",
       "1400000US36001000100                                              338.0                                                                                                            \n",
       "1400000US36001000200                                              900.0                                                                                                            \n",
       "1400000US36001000300                                              998.0                                                                                                            \n",
       "1400000US36001000401                                              172.0                                                                                                            \n",
       "1400000US36001000403                                              483.0                                                                                                            \n",
       "\n",
       "                      Estimate!!HEALTH INSURANCE COVERAGE!!Civilian noninstitutionalized population!!Civilian noninstitutionalized population 19 to 64 years!!Not in labor force!!With health insurance coverage  \\\n",
       "id                                                                                                                                                                                                                 \n",
       "1400000US36001000100                                              300.0                                                                                                                                            \n",
       "1400000US36001000200                                              658.0                                                                                                                                            \n",
       "1400000US36001000300                                              803.0                                                                                                                                            \n",
       "1400000US36001000401                                              146.0                                                                                                                                            \n",
       "1400000US36001000403                                              483.0                                                                                                                                            \n",
       "\n",
       "                      Estimate!!HEALTH INSURANCE COVERAGE!!Civilian noninstitutionalized population!!Civilian noninstitutionalized population 19 to 64 years!!Not in labor force!!With health insurance coverage!!With private health insurance  \\\n",
       "id                                                                                                                                                                                                                                                \n",
       "1400000US36001000100                                               75.0                                                                                                                                                                           \n",
       "1400000US36001000200                                               88.0                                                                                                                                                                           \n",
       "1400000US36001000300                                              333.0                                                                                                                                                                           \n",
       "1400000US36001000401                                               91.0                                                                                                                                                                           \n",
       "1400000US36001000403                                              287.0                                                                                                                                                                           \n",
       "\n",
       "                      Estimate!!HEALTH INSURANCE COVERAGE!!Civilian noninstitutionalized population!!Civilian noninstitutionalized population 19 to 64 years!!Not in labor force!!With health insurance coverage!!With public coverage  \\\n",
       "id                                                                                                                                                                                                                                       \n",
       "1400000US36001000100                                              255.0                                                                                                                                                                  \n",
       "1400000US36001000200                                              587.0                                                                                                                                                                  \n",
       "1400000US36001000300                                              526.0                                                                                                                                                                  \n",
       "1400000US36001000401                                               73.0                                                                                                                                                                  \n",
       "1400000US36001000403                                              262.0                                                                                                                                                                  \n",
       "\n",
       "                      Estimate!!HEALTH INSURANCE COVERAGE!!Civilian noninstitutionalized population!!Civilian noninstitutionalized population 19 to 64 years!!Not in labor force!!No health insurance coverage  \\\n",
       "id                                                                                                                                                                                                               \n",
       "1400000US36001000100                                               38.0                                                                                                                                          \n",
       "1400000US36001000200                                              242.0                                                                                                                                          \n",
       "1400000US36001000300                                              195.0                                                                                                                                          \n",
       "1400000US36001000401                                               26.0                                                                                                                                          \n",
       "1400000US36001000403                                                0.0                                                                                                                                          \n",
       "\n",
       "                      Percent Estimate!!PERCENTAGE OF FAMILIES AND PEOPLE WHOSE INCOME IN THE PAST 12 MONTHS IS BELOW THE POVERTY LEVEL!!All families  \\\n",
       "id                                                                                                                                                      \n",
       "1400000US36001000100                                               24.2                                                                                 \n",
       "1400000US36001000200                                               34.3                                                                                 \n",
       "1400000US36001000300                                               21.7                                                                                 \n",
       "1400000US36001000401                                                2.0                                                                                 \n",
       "1400000US36001000403                                                2.4                                                                                 \n",
       "\n",
       "                      Percent Estimate!!EMPLOYMENT STATUS!!Civilian labor force!!Unemployment Rate  \n",
       "id                                                                                                  \n",
       "1400000US36001000100                                               12.2                             \n",
       "1400000US36001000200                                                9.6                             \n",
       "1400000US36001000300                                               10.2                             \n",
       "1400000US36001000401                                                5.0                             \n",
       "1400000US36001000403                                                2.8                             \n",
       "\n",
       "[5 rows x 115 columns]"
      ]
     },
     "execution_count": 22,
     "metadata": {},
     "output_type": "execute_result"
    }
   ],
   "source": [
    "df_t=df_t.set_index('id')\n",
    "df_t.head()"
   ]
  },
  {
   "cell_type": "code",
   "execution_count": 23,
   "metadata": {},
   "outputs": [
    {
     "data": {
      "text/plain": [
       "(4851, 115)"
      ]
     },
     "execution_count": 23,
     "metadata": {},
     "output_type": "execute_result"
    }
   ],
   "source": [
    "df_t.shape"
   ]
  },
  {
   "cell_type": "code",
   "execution_count": 24,
   "metadata": {},
   "outputs": [
    {
     "data": {
      "text/plain": [
       "Index(['Estimate!!EMPLOYMENT STATUS!!Population 16 years and over',\n",
       "       'Estimate!!EMPLOYMENT STATUS!!Population 16 years and over!!In labor force',\n",
       "       'Estimate!!EMPLOYMENT STATUS!!Population 16 years and over!!In labor force!!Civilian labor force!!Unemployed',\n",
       "       'Estimate!!EMPLOYMENT STATUS!!Population 16 years and over!!In labor force!!Armed Forces',\n",
       "       'Estimate!!EMPLOYMENT STATUS!!Population 16 years and over!!Not in labor force',\n",
       "       'Estimate!!EMPLOYMENT STATUS!!Civilian labor force',\n",
       "       'Estimate!!EMPLOYMENT STATUS!!Females 16 years and over',\n",
       "       'Estimate!!EMPLOYMENT STATUS!!Females 16 years and over!!In labor force',\n",
       "       'Estimate!!EMPLOYMENT STATUS!!Females 16 years and over!!In labor force!!Civilian labor force',\n",
       "       'Estimate!!EMPLOYMENT STATUS!!Females 16 years and over!!In labor force!!Civilian labor force!!Employed',\n",
       "       ...\n",
       "       'Estimate!!HEALTH INSURANCE COVERAGE!!Civilian noninstitutionalized population!!Civilian noninstitutionalized population 19 to 64 years!!In labor force!!Unemployed!!With health insurance coverage!!With private health insurance',\n",
       "       'Estimate!!HEALTH INSURANCE COVERAGE!!Civilian noninstitutionalized population!!Civilian noninstitutionalized population 19 to 64 years!!In labor force!!Unemployed!!With health insurance coverage!!With public coverage',\n",
       "       'Estimate!!HEALTH INSURANCE COVERAGE!!Civilian noninstitutionalized population!!Civilian noninstitutionalized population 19 to 64 years!!In labor force!!Unemployed!!No health insurance coverage',\n",
       "       'Estimate!!HEALTH INSURANCE COVERAGE!!Civilian noninstitutionalized population!!Civilian noninstitutionalized population 19 to 64 years!!Not in labor force',\n",
       "       'Estimate!!HEALTH INSURANCE COVERAGE!!Civilian noninstitutionalized population!!Civilian noninstitutionalized population 19 to 64 years!!Not in labor force!!With health insurance coverage',\n",
       "       'Estimate!!HEALTH INSURANCE COVERAGE!!Civilian noninstitutionalized population!!Civilian noninstitutionalized population 19 to 64 years!!Not in labor force!!With health insurance coverage!!With private health insurance',\n",
       "       'Estimate!!HEALTH INSURANCE COVERAGE!!Civilian noninstitutionalized population!!Civilian noninstitutionalized population 19 to 64 years!!Not in labor force!!With health insurance coverage!!With public coverage',\n",
       "       'Estimate!!HEALTH INSURANCE COVERAGE!!Civilian noninstitutionalized population!!Civilian noninstitutionalized population 19 to 64 years!!Not in labor force!!No health insurance coverage',\n",
       "       'Percent Estimate!!PERCENTAGE OF FAMILIES AND PEOPLE WHOSE INCOME IN THE PAST 12 MONTHS IS BELOW THE POVERTY LEVEL!!All families',\n",
       "       'Percent Estimate!!EMPLOYMENT STATUS!!Civilian labor force!!Unemployment Rate'],\n",
       "      dtype='object', length=115)"
      ]
     },
     "execution_count": 24,
     "metadata": {},
     "output_type": "execute_result"
    }
   ],
   "source": [
    "df_t.columns"
   ]
  },
  {
   "cell_type": "code",
   "execution_count": 34,
   "metadata": {},
   "outputs": [],
   "source": [
    "mean=np.mean(df_t[\"Percent Estimate!!PERCENTAGE OF FAMILIES AND PEOPLE WHOSE INCOME IN THE PAST 12 MONTHS IS BELOW THE POVERTY LEVEL!!All families\"])\n",
    "l=list()\n",
    "for i in df_t[\"Percent Estimate!!PERCENTAGE OF FAMILIES AND PEOPLE WHOSE INCOME IN THE PAST 12 MONTHS IS BELOW THE POVERTY LEVEL!!All families\"]:\n",
    "    if(i>=mean):\n",
    "        l.append(0)\n",
    "    else:\n",
    "        l.append(1)  "
   ]
  },
  {
   "cell_type": "code",
   "execution_count": 35,
   "metadata": {},
   "outputs": [],
   "source": [
    "df_t[\"poverty\"]=l"
   ]
  },
  {
   "cell_type": "code",
   "execution_count": 47,
   "metadata": {},
   "outputs": [
    {
     "data": {
      "text/plain": [
       "1    3123\n",
       "0    1728\n",
       "Name: poverty, dtype: int64"
      ]
     },
     "execution_count": 47,
     "metadata": {},
     "output_type": "execute_result"
    }
   ],
   "source": [
    "df_t[\"poverty\"].value_counts()"
   ]
  },
  {
   "cell_type": "code",
   "execution_count": 52,
   "metadata": {},
   "outputs": [],
   "source": [
    "X=df_t.drop(['Percent Estimate!!PERCENTAGE OF FAMILIES AND PEOPLE WHOSE INCOME IN THE PAST 12 MONTHS IS BELOW THE POVERTY LEVEL!!All families','poverty'],axis=1)\n",
    "Y=df_t[['poverty']]\n",
    "X_train, X_test, y_train, y_test = train_test_split(X, Y, test_size=0.40, random_state=0)"
   ]
  },
  {
   "cell_type": "code",
   "execution_count": 53,
   "metadata": {},
   "outputs": [],
   "source": [
    "scaler = StandardScaler()\n",
    "# Fit on training set only.\n",
    "scaler.fit(X_train)\n",
    "# Apply transform to both the training set and the test set.\n",
    "X_train = scaler.transform(X_train)\n",
    "X_test = scaler.transform(X_test)"
   ]
  },
  {
   "cell_type": "code",
   "execution_count": 58,
   "metadata": {},
   "outputs": [],
   "source": [
    "pca = PCA(.95)"
   ]
  },
  {
   "cell_type": "code",
   "execution_count": 59,
   "metadata": {},
   "outputs": [],
   "source": [
    "pca.fit(X_train)\n",
    "X_train = pca.transform(X_train)\n",
    "X_test = pca.transform(X_test)"
   ]
  },
  {
   "cell_type": "code",
   "execution_count": 60,
   "metadata": {},
   "outputs": [
    {
     "name": "stdout",
     "output_type": "stream",
     "text": [
      "              precision    recall  f1-score   support\n",
      "\n",
      "           0       0.91      0.84      0.88       727\n",
      "           1       0.91      0.95      0.93      1214\n",
      "\n",
      "    accuracy                           0.91      1941\n",
      "   macro avg       0.91      0.90      0.90      1941\n",
      "weighted avg       0.91      0.91      0.91      1941\n",
      "\n"
     ]
    },
    {
     "name": "stderr",
     "output_type": "stream",
     "text": [
      "/home/arpit/anaconda3/lib/python3.7/site-packages/sklearn/utils/validation.py:760: DataConversionWarning: A column-vector y was passed when a 1d array was expected. Please change the shape of y to (n_samples, ), for example using ravel().\n",
      "  y = column_or_1d(y, warn=True)\n"
     ]
    }
   ],
   "source": [
    "# Let's Try Logistic Regression\n",
    "from sklearn.metrics import classification_report,confusion_matrix\n",
    "from sklearn.linear_model import LogisticRegression\n",
    "lgrm=LogisticRegression()\n",
    "lgrm.fit(X_train,y_train)\n",
    "preds=lgrm.predict(X_test)\n",
    "print(classification_report(y_test,preds))"
   ]
  },
  {
   "cell_type": "code",
   "execution_count": 61,
   "metadata": {},
   "outputs": [
    {
     "data": {
      "text/plain": [
       "0.9113858835651726"
      ]
     },
     "execution_count": 61,
     "metadata": {},
     "output_type": "execute_result"
    }
   ],
   "source": [
    "lgrm.score(X_test,y_test)"
   ]
  },
  {
   "cell_type": "code",
   "execution_count": null,
   "metadata": {},
   "outputs": [],
   "source": []
  }
 ],
 "metadata": {
  "kernelspec": {
   "display_name": "Python 3",
   "language": "python",
   "name": "python3"
  },
  "language_info": {
   "codemirror_mode": {
    "name": "ipython",
    "version": 3
   },
   "file_extension": ".py",
   "mimetype": "text/x-python",
   "name": "python",
   "nbconvert_exporter": "python",
   "pygments_lexer": "ipython3",
   "version": "3.7.6"
  }
 },
 "nbformat": 4,
 "nbformat_minor": 4
}
